{
 "cells": [
  {
   "cell_type": "code",
   "execution_count": 66,
   "metadata": {},
   "outputs": [],
   "source": [
    "import cv2\n",
    "import base64\n",
    "import numpy as np"
   ]
  },
  {
   "cell_type": "code",
   "execution_count": 83,
   "metadata": {},
   "outputs": [
    {
     "name": "stdout",
     "output_type": "stream",
     "text": [
      "77878\n",
      "76800\n"
     ]
    }
   ],
   "source": [
    "image = cv2.imread('Img/image.jpg')\n",
    "gray = cv2.cvtColor(image, cv2.COLOR_BGR2GRAY)\n",
    "#buffer = cv2.imencode('.jpg', image)\n",
    "(tmp,buffer) = cv2.imencode('.bmp', gray)\n",
    "#imcode = base64.b64encode(buffer)\n",
    "#print(tmp)\n",
    "print (len(buffer))\n",
    "#230454\n",
    "buffer=buffer[1078:]\n",
    "print (len(buffer))"
   ]
  },
  {
   "cell_type": "code",
   "execution_count": 88,
   "metadata": {},
   "outputs": [
    {
     "name": "stderr",
     "output_type": "stream",
     "text": [
      "c:\\users\\aruna\\appdata\\local\\programs\\python\\python36\\lib\\site-packages\\ipykernel_launcher.py:1: DeprecationWarning: The binary mode of fromstring is deprecated, as it behaves surprisingly on unicode inputs. Use frombuffer instead\n",
      "  \"\"\"Entry point for launching an IPython kernel.\n"
     ]
    },
    {
     "ename": "TypeError",
     "evalue": "bad argument type for built-in operation",
     "output_type": "error",
     "traceback": [
      "\u001b[1;31m---------------------------------------------------------------------------\u001b[0m",
      "\u001b[1;31mTypeError\u001b[0m                                 Traceback (most recent call last)",
      "\u001b[1;32m<ipython-input-88-3a7f01981d37>\u001b[0m in \u001b[0;36m<module>\u001b[1;34m\u001b[0m\n\u001b[0;32m      1\u001b[0m \u001b[0mimage\u001b[0m \u001b[1;33m=\u001b[0m \u001b[0mnp\u001b[0m\u001b[1;33m.\u001b[0m\u001b[0mfromstring\u001b[0m\u001b[1;33m(\u001b[0m\u001b[0mbuffer\u001b[0m\u001b[1;33m,\u001b[0m \u001b[0mnp\u001b[0m\u001b[1;33m.\u001b[0m\u001b[0muint8\u001b[0m\u001b[1;33m)\u001b[0m\u001b[1;33m.\u001b[0m\u001b[0mreshape\u001b[0m\u001b[1;33m(\u001b[0m \u001b[1;36m320\u001b[0m\u001b[1;33m,\u001b[0m\u001b[1;36m240\u001b[0m\u001b[1;33m,\u001b[0m \u001b[1;36m1\u001b[0m \u001b[1;33m)\u001b[0m\u001b[1;33m\u001b[0m\u001b[1;33m\u001b[0m\u001b[0m\n\u001b[1;32m----> 2\u001b[1;33m \u001b[0mcv2\u001b[0m\u001b[1;33m.\u001b[0m\u001b[0mimshow\u001b[0m\u001b[1;33m(\u001b[0m\u001b[0mimage\u001b[0m\u001b[1;33m,\u001b[0m\u001b[1;36m320\u001b[0m\u001b[1;33m)\u001b[0m\u001b[1;33m\u001b[0m\u001b[1;33m\u001b[0m\u001b[0m\n\u001b[0m",
      "\u001b[1;31mTypeError\u001b[0m: bad argument type for built-in operation"
     ]
    }
   ],
   "source": [
    "image = np.fromstring(buffer, np.uint8).reshape( 320,240, 1 )\n",
    "cv2.imshow(image,320)"
   ]
  },
  {
   "cell_type": "code",
   "execution_count": 25,
   "metadata": {},
   "outputs": [],
   "source": [
    "file = open('image.hex', 'w')\n",
    "for i in buffer:\n",
    "    #print (str(hex(i[0]))[2:])\n",
    "    file.write(str(hex(i[0]))[2:])\n",
    "    file.write('\\n')\n",
    "    #print (i)\n",
    "\n",
    "file.close()"
   ]
  },
  {
   "cell_type": "code",
   "execution_count": 64,
   "metadata": {},
   "outputs": [],
   "source": [
    "import struct\n",
    "\n",
    "bmp = open('Img/fl.bmp', 'rb')\n",
    "file1 = open('header.txt', 'w')\n",
    "for i in range(54):\n",
    "    y=bmp.read(1)\n",
    "    file1.write(str(int.from_bytes(y, \"little\")))\n",
    "    file1.write('\\n')\n",
    "file1.close()\n",
    "# print('Type:', bmp.read(2).decode())\n",
    "# print(bmp.read(1))\n",
    "# print(bmp.read(1))\n",
    "# print(bmp.read(1))\n",
    "# print(bmp.read(1))\n",
    "# #print('Size: %s' % struct.unpack('I', bmp.read(4)))\n",
    "# print('Reserved 1: %s' % struct.unpack('H', bmp.read(2)))\n",
    "# print('Reserved 2: %s' % struct.unpack('H', bmp.read(2)))\n",
    "# print('Offset: %s' % struct.unpack('I', bmp.read(4)))\n",
    "\n",
    "# print('DIB Header Size: %s' % struct.unpack('I', bmp.read(4)))\n",
    "# print(bmp.read(1))\n",
    "# print(bmp.read(1))\n",
    "# print(bmp.read(1))\n",
    "# print(bmp.read(1))\n",
    "\n",
    "# print(str(bmp.read(1)))\n",
    "# print(bmp.read(1))\n",
    "# print(bmp.read(1))\n",
    "# print(bmp.read(1))\n",
    "# #print('Width: %s' % struct.unpack('I', bmp.read(4)))\n",
    "# #print('Height: %s' % struct.unpack('I', bmp.read(4)))\n",
    "# print('Colour Planes: %s' % struct.unpack('H', bmp.read(2)))\n",
    "# print('Bits per Pixel: %s' % struct.unpack('H', bmp.read(2)))\n",
    "# print('Compression Method: %s' % struct.unpack('I', bmp.read(4)))\n",
    "# print('Raw Image Size: %s' % struct.unpack('I', bmp.read(4)))\n",
    "# print('Horizontal Resolution: %s' % struct.unpack('I', bmp.read(4)))\n",
    "# print('Vertical Resolution: %s' % struct.unpack('I', bmp.read(4)))\n",
    "# print('Number of Colours: %s' % struct.unpack('I', bmp.read(4)))\n",
    "# print('Important Colours: %s' % struct.unpack('I', bmp.read(4)))"
   ]
  },
  {
   "cell_type": "code",
   "execution_count": null,
   "metadata": {},
   "outputs": [],
   "source": []
  }
 ],
 "metadata": {
  "kernelspec": {
   "display_name": "Python 3",
   "language": "python",
   "name": "python3"
  },
  "language_info": {
   "codemirror_mode": {
    "name": "ipython",
    "version": 3
   },
   "file_extension": ".py",
   "mimetype": "text/x-python",
   "name": "python",
   "nbconvert_exporter": "python",
   "pygments_lexer": "ipython3",
   "version": "3.6.8"
  }
 },
 "nbformat": 4,
 "nbformat_minor": 2
}
